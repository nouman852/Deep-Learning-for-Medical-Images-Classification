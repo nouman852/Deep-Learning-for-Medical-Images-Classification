import tensorflow as tf
from tensorflow.keras.preprocessing.image import ImageDataGenerator

# Define the path to the directory containing your dataset
dataset_dir = '/path/to/dataset'

# Define the image size and batch size
image_size = (224, 224)  # adjust to your desired image size
batch_size = 32  # adjust according to your memory capacity

# Use ImageDataGenerator for loading and preprocessing the images
datagen = ImageDataGenerator(
    rescale=1./255,  # normalize pixel values to [0, 1]
    validation_split=0.2  # split dataset into training and validation sets
)

# Load the training set
train_generator = datagen.flow_from_directory(
    dataset_dir,
    target_size=image_size,
    batch_size=batch_size,
    class_mode='categorical',  # adjust based on your label format
    subset='training'
)

# Load the validation set
validation_generator = datagen.flow_from_directory(
    dataset_dir,
    target_size=image_size,
    batch_size=batch_size,
    class_mode='categorical',  # adjust based on your label format
    subset='validation'
)

# Continue with your transfer learning workflow
# ...
